{
 "cells": [
  {
   "cell_type": "code",
   "execution_count": 15,
   "metadata": {},
   "outputs": [],
   "source": [
    "from bs4 import BeautifulSoup as soup\n",
    "from urllib.request import Request,urlopen\n",
    "from spacy import displacy\n",
    "import spacy\n",
    "import heapq\n",
    "import string\n",
    "import re"
   ]
  },
  {
   "cell_type": "code",
   "execution_count": 16,
   "metadata": {},
   "outputs": [],
   "source": [
    "nlp=spacy.load('en_core_web_md')"
   ]
  },
  {
   "cell_type": "code",
   "execution_count": 17,
   "metadata": {},
   "outputs": [
    {
     "name": "stdout",
     "output_type": "stream",
     "text": [
      "Enter the URL you want to Scrap:https://www.who.int/news/item/02-11-2020-ensuring-medicines-work-safely-for-everyone\n"
     ]
    }
   ],
   "source": [
    "link=input(\"Enter the URL you want to Scrap:\")"
   ]
  },
  {
   "cell_type": "code",
   "execution_count": 18,
   "metadata": {},
   "outputs": [
    {
     "data": {
      "text/plain": [
       "'For medicines to work safely, it’s vital to have strong systems in place to report any undesired side effects or “adverse drug reactions“.The most important aspect of drug safety monitoring is reliable, real-time information. Health-care professionals (physicians, pharmacists, nurses, dentists) are best placed to report suspected adverse reactions as part of patient care. Patients also\\n    have a critical role in getting the right information to authorities and should refer to their medical practitioner as soon as they detect unwanted symptoms or reactions. Both health professionals and patients should report these even if they are\\n    doubtful about the precise relationship between the given drug and the reaction. Many undesired drug reactions may be due to factors independent of the medicine. For example:But s risks may also occur because a medicine’s composition and ingredients do not meet required standards, causing them to be ineffective and even hazardous; or because the medicine is counterfeit, with no active ingredients or inappropriate ingredients.Before medicines or vaccines are made widely available in countries, they are rigorously tested in patient and healthy volunteers respectively to discover how well they work for a defined disease and how safe they are. But to get a comprehensive picture\\n    of a product’s safety, it is important to keep watching how it works once it is widely used in a population.This requires careful patient monitoring and further scientific data collection by organized local, national and international agencies.International drug safety monitoring is particularly important during global epidemics such as the current COVID-19 pandemic, and even more so when there are no proven vaccines or medicines for the disease. As new COVID-19 vaccines and treatments become\\n    available, health-care professionals and patients will need to be actively engaged in monitoring the effects of these novel products and reporting any potential adverse reaction. By analyzing reported reactions, national medicines authorities can\\n    take the necessary measures for safer use of the drugs, scientists can assess the data and, if needed, international networks can be activated to address the problem. WHO promotes global drug safety through its Programme for International Drug Monitoring, which supports countries to develop sound pharmacovigilance policies, organizes hands-on training and workshops, and establishes networks for information sharing.\\n    An important role of the programme is to strengthen national reporting systems and their contribution to VigiBase, the global WHO database for adverse drug reactions, managed by Uppsala Monitoring Centre in Sweden, and to identify possible links between\\n    the use of a drug and adverse reactions. When signals of drug safety problems emerge through the database or other sources, WHO and Uppsala Monitoring Centre share new information on serious adverse reactions with all WHO Member States. A recent key WHO development is the introduction of a mobile application called “Med Safety”, jointly launched in nine countries* with Uppsala Monitoring Centre and the UK Medicines and Healthcare products Regulatory Agency. The app enables\\n    health-care professionals and patients to report suspected adverse reactions directly to the national authorities’ data base. WHO is preparing to roll out the app in more countries once a COVID-19 vaccine becomes available. *Armenia, Botswana, Burkina Faso, Côte d’Ivoire, Democratic Republic of the Congo, Ethiopia, Ghana, Uganda, Zambia.\\xa0\\xa0Subscribe to our newsletters →RelatedFor more on WHO’s drug safety programmeMedicinesSubstandard and falsified medical productsMed Safety App'"
      ]
     },
     "execution_count": 18,
     "metadata": {},
     "output_type": "execute_result"
    }
   ],
   "source": [
    "req=Request(link,headers={'User-Agent':'Mozilla/5.0'})\n",
    "page=urlopen(req)\n",
    "bs4page=soup(page,'html.parser')\n",
    "element=bs4page.find_all('p')\n",
    "document=''\n",
    "for i in element:\n",
    "    document+=(i.text)\n",
    "document"
   ]
  },
  {
   "cell_type": "code",
   "execution_count": 30,
   "metadata": {},
   "outputs": [],
   "source": [
    "document=re.sub('[^\\d\\w\\są-ż]',' ',document)\n",
    "document=re.sub('[^\\d\\w\\są-ż]+',' ',document)\n",
    "document=re.sub('\\[[0-9]*\\]',' ',document)"
   ]
  },
  {
   "cell_type": "code",
   "execution_count": 31,
   "metadata": {},
   "outputs": [],
   "source": [
    "document=document.replace('\\n',' ')\n",
    "document=document.replace('\\\\',' ')\n",
    "document=document.replace(',',' ')\n",
    "document=document.replace('\"',' ')"
   ]
  },
  {
   "cell_type": "code",
   "execution_count": 28,
   "metadata": {},
   "outputs": [
    {
     "data": {
      "text/plain": [
       "'For medicines to work safely  it s vital to have strong systems in place to report any undesired side effects or  adverse drug reactions  The most important aspect of drug safety monitoring is reliable  real time information  Health care professionals  physicians  pharmacists  nurses  dentists  are best placed to report suspected adverse reactions as part of patient care  Patients also     have a critical role in getting the right information to authorities and should refer to their medical practitioner as soon as they detect unwanted symptoms or reactions  Both health professionals and patients should report these even if they are     doubtful about the precise relationship between the given drug and the reaction  Many undesired drug reactions may be due to factors independent of the medicine  For example But s risks may also occur because a medicine s composition and ingredients do not meet required standards  causing them to be ineffective and even hazardous  or because the medicine is counterfeit  with no active ingredients or inappropriate ingredients Before medicines or vaccines are made widely available in countries  they are rigorously tested in patient and healthy volunteers respectively to discover how well they work for a defined disease and how safe they are  But to get a comprehensive picture     of a product s safety  it is important to keep watching how it works once it is widely used in a population This requires careful patient monitoring and further scientific data collection by organized local  national and international agencies International drug safety monitoring is particularly important during global epidemics such as the current COVID 19 pandemic  and even more so when there are no proven vaccines or medicines for the disease  As new COVID 19 vaccines and treatments become     available  health care professionals and patients will need to be actively engaged in monitoring the effects of these novel products and reporting any potential adverse reaction  By analyzing reported reactions  national medicines authorities can     take the necessary measures for safer use of the drugs  scientists can assess the data and  if needed  international networks can be activated to address the problem  WHO promotes global drug safety through its Programme for International Drug Monitoring  which supports countries to develop sound pharmacovigilance policies  organizes hands on training and workshops  and establishes networks for information sharing      An important role of the programme is to strengthen national reporting systems and their contribution to VigiBase  the global WHO database for adverse drug reactions  managed by Uppsala Monitoring Centre in Sweden  and to identify possible links between     the use of a drug and adverse reactions  When signals of drug safety problems emerge through the database or other sources  WHO and Uppsala Monitoring Centre share new information on serious adverse reactions with all WHO Member States  A recent key WHO development is the introduction of a mobile application called  Med Safety   jointly launched in nine countries  with Uppsala Monitoring Centre and the UK Medicines and Healthcare products Regulatory Agency  The app enables     health care professionals and patients to report suspected adverse reactions directly to the national authorities  data base  WHO is preparing to roll out the app in more countries once a COVID 19 vaccine becomes available   Armenia  Botswana  Burkina Faso  Côte d Ivoire  Democratic Republic of the Congo  Ethiopia  Ghana  Uganda  Zambia \\xa0\\xa0Subscribe to our newsletters  RelatedFor more on WHO s drug safety programmeMedicinesSubstandard and falsified medical productsMed Safety App'"
      ]
     },
     "execution_count": 28,
     "metadata": {},
     "output_type": "execute_result"
    }
   ],
   "source": [
    "document"
   ]
  },
  {
   "cell_type": "code",
   "execution_count": null,
   "metadata": {},
   "outputs": [],
   "source": []
  }
 ],
 "metadata": {
  "kernelspec": {
   "display_name": "Python 3",
   "language": "python",
   "name": "python3"
  },
  "language_info": {
   "codemirror_mode": {
    "name": "ipython",
    "version": 3
   },
   "file_extension": ".py",
   "mimetype": "text/x-python",
   "name": "python",
   "nbconvert_exporter": "python",
   "pygments_lexer": "ipython3",
   "version": "3.7.3"
  }
 },
 "nbformat": 4,
 "nbformat_minor": 2
}
